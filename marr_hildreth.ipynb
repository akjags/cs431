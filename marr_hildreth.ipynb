{
 "cells": [
  {
   "cell_type": "code",
   "execution_count": null,
   "metadata": {},
   "outputs": [],
   "source": [
    "import matplotlib.pyplot as plt\n",
    "import numpy as np\n",
    "import math\n"
   ]
  },
  {
   "cell_type": "markdown",
   "metadata": {},
   "source": [
    "## Marr Hildreth Edge Detector"
   ]
  },
  {
   "cell_type": "code",
   "execution_count": null,
   "metadata": {},
   "outputs": [],
   "source": [
    "def get_edges_Marr_Hildreth(img, sigma=4):\n",
    "    \"\"\"\n",
    "    Finds the edges using Marr-Hildreth edge detection method.\n",
    "      Parameters:\n",
    "        - img : input image\n",
    "        - sigma : sigma is the std-deviation and refers to the spread of gaussian\n",
    "      Returns:\n",
    "        - an edge-filtered image (the locations of the zero-crossings)\n",
    "    \n",
    "    Adapted from: https://github.com/adl1995/edge-detectors/blob/master/marr-hildreth-edge.py\n",
    "    \n",
    "    \"\"\"\n",
    "    size = int(2*(np.ceil(3*sigma))+1)\n",
    "\n",
    "    x, y = np.meshgrid(np.arange(-size/2+1, size/2+1), np.arange(-size/2+1, size/2+1))\n",
    "    \n",
    "    normal = 1 / (2.0 * np.pi * sigma**2)\n",
    "    # Kernel is the Laplacian of the Gaussian\n",
    "    kernel = ((x**2 + y**2 - (2.0*sigma**2)) / sigma**4) * np.exp(-(x**2+y**2) / (2.0*sigma**2)) / normal # LoG filter\n",
    "\n",
    "    kern_size = kernel.shape[0]\n",
    "    log = np.zeros_like(img, dtype=float)\n",
    "\n",
    "    # applying filter\n",
    "    for i in range(img.shape[0]-(kern_size-1)):\n",
    "        for j in range(img.shape[1]-(kern_size-1)):\n",
    "            # Convolve each local image window with the Gaussian kernel\n",
    "            window = img[i:i+kern_size, j:j+kern_size] * kernel\n",
    "            log[i,j] = np.sum(window)\n",
    "            \n",
    "    log = log.astype(np.int64, copy=False)\n",
    "\n",
    "    zero_crossing = np.zeros_like(log)\n",
    "\n",
    "    # computing zero crossing\n",
    "    for i in range(log.shape[0]-(kern_size-1)):\n",
    "        for j in range(log.shape[1]-(kern_size-1)):\n",
    "            if log[i][j] == 0:\n",
    "                if (log[i][j-1] < 0 and log[i][j+1] > 0) or (log[i][j-1] > 0 and log[i][j+1] < 0) or (log[i-1][j] < 0 and log[i+1][j] > 0) or (log[i-1][j] > 0 and log[i+1][j] < 0):\n",
    "                    zero_crossing[i][j] = 255 # Set to white wherever there's a zero-crossing.\n",
    "            if log[i][j] < 0:\n",
    "                if (log[i][j-1] > 0) or (log[i][j+1] > 0) or (log[i-1][j] > 0) or (log[i+1][j] > 0):\n",
    "                    zero_crossing[i][j] = 255 \n",
    "\n",
    "    # plotting images\n",
    "    fig = plt.figure(figsize=(15,5))\n",
    "    plt.subplot(1,3,1);\n",
    "    plt.imshow(img, cmap='gray');\n",
    "    plt.title('Original'); plt.axis('off');\n",
    "    \n",
    "    plt.subplot(1,3,2)\n",
    "    imgplot = plt.imshow(log, cmap='gray')\n",
    "    plt.title('Laplacian of Gaussian'); plt.axis('off')\n",
    "    \n",
    "    plt.subplot(1,3,3)\n",
    "    imgplot = plt.imshow(zero_crossing, cmap='gray')\n",
    "    plt.title('Zero Crossing sigma = ' + str(sigma)); plt.axis('off')\n",
    "    plt.show()\n",
    "    \n",
    "    return zero_crossing"
   ]
  },
  {
   "cell_type": "code",
   "execution_count": null,
   "metadata": {
    "scrolled": true
   },
   "outputs": [],
   "source": [
    "# Plot the Laplacians and the zero-crossings\n",
    "\n",
    "sigmas = [1,2,4,8,12,16]\n",
    "img = plt.imread('zebra.jpg')[:,:,0]\n",
    "\n",
    "for sigma in sigmas:\n",
    "    b = get_edges_Marr_Hildreth(img, sigma=sigma)"
   ]
  },
  {
   "cell_type": "markdown",
   "metadata": {},
   "source": [
    "## Canny Edge Detector"
   ]
  },
  {
   "cell_type": "code",
   "execution_count": null,
   "metadata": {},
   "outputs": [],
   "source": [
    "from skimage.feature import canny"
   ]
  },
  {
   "cell_type": "code",
   "execution_count": null,
   "metadata": {
    "scrolled": true
   },
   "outputs": [],
   "source": [
    "# Plot the Canny Edge detector output\n",
    "sigmas = [1,2,4,8,12,16]\n",
    "img = plt.imread('zebra.jpg')[:,:,0]\n",
    "fig = plt.figure(figsize=(10,20))\n",
    "for i in range(len(sigmas)):\n",
    "    sigma = sigmas[i]\n",
    "    edges = canny(img, sigma)\n",
    "    \n",
    "    plt.subplot(len(sigmas), 2, i*2 + 1)\n",
    "    plt.imshow(img, cmap='gray')\n",
    "    plt.title('Original image'); plt.axis('off');\n",
    "    \n",
    "    plt.subplot(len(sigmas), 2, i*2 + 2)\n",
    "    plt.imshow(edges, cmap='gray')\n",
    "    plt.title('Canny Edges: Sigma = {}'.format(sigma)); plt.axis('off');"
   ]
  },
  {
   "cell_type": "code",
   "execution_count": null,
   "metadata": {},
   "outputs": [],
   "source": []
  }
 ],
 "metadata": {
  "kernelspec": {
   "display_name": "Python 3",
   "language": "python",
   "name": "python3"
  },
  "language_info": {
   "codemirror_mode": {
    "name": "ipython",
    "version": 3
   },
   "file_extension": ".py",
   "mimetype": "text/x-python",
   "name": "python",
   "nbconvert_exporter": "python",
   "pygments_lexer": "ipython3",
   "version": "3.7.3"
  }
 },
 "nbformat": 4,
 "nbformat_minor": 2
}
